{
 "cells": [
  {
   "cell_type": "markdown",
   "id": "1ce82095-34b3-4124-808a-d8a74b2d06c5",
   "metadata": {},
   "source": [
    "Идеја је да се напише програм који би пратио трке за ресурсе. У програму ресурс може бити било који податак који је зачајан за приступање - читање или писање. Непожељна ситуација је да две или више нити у исто време приступе ресурсу са различитим намерама. На пример једна нит модификује податак а друга чита податак. Без одговарајуће синхронизације може се десити да у исто време прва нит модификује ресурс а друга нит чита ресурс који нема вредност коју очекујемо јер друга нити није сачекала да се заврши модификација податка. Исправност рада програма зависи од тачности редоследа извршавања нити.\n",
    "У следећем коду пратимо процес трке података.\n",
    "Прва класа AccessType је апстрактни домен за праћење приступања променљивим.\n",
    "Друга класа VariableAccess чува информације о приступима променљивим (која\n",
    "је нит и који је тип приступа)."
   ]
  },
  {
   "cell_type": "code",
   "execution_count": 1,
   "id": "97536622-55d0-4826-81f2-7a91cc92c036",
   "metadata": {},
   "outputs": [],
   "source": [
    "class AccessType:\n",
    "    READ = \"READ\"\n",
    "    WRITE = \"WRITE\"\n",
    "\n",
    "class VariableAccess:\n",
    "    def __init__(self):\n",
    "        self.accesses = []\n",
    "\n",
    "    def add_access(self, thread_id, access_type):\n",
    "        self.accesses.append((thread_id, access_type))\n",
    "\n",
    "    def has_race_condition(self):\n",
    "        # Detekcija trka podataka\n",
    "        write_accesses = [access for access in self.accesses if access[1] == AccessType.WRITE]\n",
    "        if len(write_accesses) > 1:\n",
    "            return True\n",
    "        read_accesses = [access for access in self.accesses if access[1] == AccessType.READ]\n",
    "        if write_accesses and read_accesses:\n",
    "            return True\n",
    "        return False\n"
   ]
  },
  {
   "cell_type": "markdown",
   "id": "b0513871-bc90-49b1-b7a7-0a05d12e672f",
   "metadata": {},
   "source": [
    "Класа ParallelProgramAnalyzer анализира паралелне токове и детектује трке података.\n",
    "У оквиру ње метода analyze_thread додаје приступе променљивим за сваку нит.\n",
    "Метода detect_races проверава да ли постоје трке података на променљивим."
   ]
  },
  {
   "cell_type": "code",
   "execution_count": 2,
   "id": "daf29f74-d13c-4278-b34f-1ca068f6f443",
   "metadata": {},
   "outputs": [],
   "source": [
    "class ParallelProgramAnalyzer:\n",
    "    def __init__(self):\n",
    "        self.variable_accesses = {}\n",
    "\n",
    "    def analyze_thread(self, thread_id, operations):\n",
    "        for op in operations:\n",
    "            var_name, access_type = op\n",
    "            if var_name not in self.variable_accesses:\n",
    "                self.variable_accesses[var_name] = VariableAccess()\n",
    "            self.variable_accesses[var_name].add_access(thread_id, access_type)\n",
    "\n",
    "    def detect_races(self):\n",
    "        races = []\n",
    "        for var_name, access in self.variable_accesses.items():\n",
    "            if access.has_race_condition():\n",
    "                races.append(var_name)\n",
    "        return races\n"
   ]
  },
  {
   "cell_type": "markdown",
   "id": "cdd0ea31-f2b8-4892-b5b3-08f86c36a89c",
   "metadata": {},
   "source": [
    "Покренућемо анализу и детектовати трке података."
   ]
  },
  {
   "cell_type": "code",
   "execution_count": 3,
   "id": "a831ef6d-6f5e-4644-b941-e51402b8f505",
   "metadata": {},
   "outputs": [
    {
     "name": "stdout",
     "output_type": "stream",
     "text": [
      "Detektovane trke podataka na promenljivim: x, y\n"
     ]
    }
   ],
   "source": [
    "# Definisanje paralelnih operacija\n",
    "thread1_operations = [(\"x\", AccessType.WRITE), (\"y\", AccessType.READ)]\n",
    "thread2_operations = [(\"x\", AccessType.READ), (\"y\", AccessType.WRITE)]\n",
    "\n",
    "analyzer = ParallelProgramAnalyzer()\n",
    "analyzer.analyze_thread(\"thread1\", thread1_operations)\n",
    "analyzer.analyze_thread(\"thread2\", thread2_operations)\n",
    "\n",
    "races = analyzer.detect_races()\n",
    "if races:\n",
    "    print(f\"Detektovane trke podataka na promenljivim: {', '.join(races)}\")\n",
    "else:\n",
    "    print(\"Nema detektovanih trka podataka.\")\n"
   ]
  },
  {
   "cell_type": "code",
   "execution_count": 4,
   "id": "2665ecfc-829c-4cc7-9936-ea639e266653",
   "metadata": {},
   "outputs": [
    {
     "name": "stdout",
     "output_type": "stream",
     "text": [
      "Thread 1: x = 1\n",
      "Thread 1: y = 1\n",
      "Thread 2: x = 3\n",
      "Thread 2: y = 3\n"
     ]
    }
   ],
   "source": [
    "import threading\n",
    "\n",
    "x = 0\n",
    "y = 0\n",
    "\n",
    "def thread1():\n",
    "    global x, y\n",
    "    x += 1\n",
    "    print(f\"Thread 1: x = {x}\")\n",
    "    y += 1\n",
    "    print(f\"Thread 1: y = {y}\")\n",
    "\n",
    "def thread2():\n",
    "    global x, y\n",
    "    x += 2\n",
    "    print(f\"Thread 2: x = {x}\")\n",
    "    y += 2\n",
    "    print(f\"Thread 2: y = {y}\")\n",
    "\n",
    "t1 = threading.Thread(target=thread1)\n",
    "t2 = threading.Thread(target=thread2)\n",
    "\n",
    "t1.start()\n",
    "t2.start()\n",
    "\n",
    "t1.join()\n",
    "t2.join()\n"
   ]
  },
  {
   "cell_type": "code",
   "execution_count": 5,
   "id": "37483b25-d113-45c6-8bff-7ca8eed111bd",
   "metadata": {},
   "outputs": [],
   "source": [
    "thread1_operations = [(\"x\", AccessType.WRITE), (\"y\", AccessType.WRITE)]\n",
    "thread2_operations = [(\"x\", AccessType.WRITE), (\"y\", AccessType.WRITE)]\n"
   ]
  },
  {
   "cell_type": "code",
   "execution_count": 6,
   "id": "c59efa34-09a4-4df7-a9a4-fa4a3f6ce161",
   "metadata": {},
   "outputs": [
    {
     "name": "stdout",
     "output_type": "stream",
     "text": [
      "Detektovane trke podataka na promenljivim: x, y\n"
     ]
    }
   ],
   "source": [
    "analyzer = ParallelProgramAnalyzer()\n",
    "analyzer.analyze_thread(\"thread1\", thread1_operations)\n",
    "analyzer.analyze_thread(\"thread2\", thread2_operations)\n",
    "\n",
    "races = analyzer.detect_races()\n",
    "if races:\n",
    "    print(f\"Detektovane trke podataka na promenljivim: {', '.join(races)}\")\n",
    "else:\n",
    "    print(\"Nema detektovanih trka podataka.\")\n"
   ]
  },
  {
   "cell_type": "markdown",
   "id": "874bf33c-d3fb-4fe1-9c69-ef3059b3998c",
   "metadata": {},
   "source": [
    "Цео код."
   ]
  },
  {
   "cell_type": "code",
   "execution_count": 10,
   "id": "74663763-441b-4712-8e34-a7b558917987",
   "metadata": {},
   "outputs": [
    {
     "name": "stdout",
     "output_type": "stream",
     "text": [
      "Detektovane trke podataka na promenljivim: x, y\n",
      "Thread 1: x = 1\n",
      "Thread 1: y = 1\n",
      "Thread 2: x = 3\n",
      "Thread 2: y = 3\n"
     ]
    }
   ],
   "source": [
    "import threading\n",
    "\n",
    "class AccessType:\n",
    "    READ = \"READ\"\n",
    "    WRITE = \"WRITE\"\n",
    "\n",
    "class VariableAccess:\n",
    "    def __init__(self):\n",
    "        self.accesses = []\n",
    "\n",
    "    def add_access(self, thread_id, access_type):\n",
    "        self.accesses.append((thread_id, access_type))\n",
    "\n",
    "    def has_race_condition(self):\n",
    "        write_accesses = [access for access in self.accesses if access[1] == AccessType.WRITE]\n",
    "        if len(write_accesses) > 1:\n",
    "            return True\n",
    "        read_accesses = [access for access in self.accesses if access[1] == AccessType.READ]\n",
    "        if write_accesses and read_accesses:\n",
    "            return True\n",
    "        return False\n",
    "\n",
    "class ParallelProgramAnalyzer:\n",
    "    def __init__(self):\n",
    "        self.variable_accesses = {}\n",
    "\n",
    "    def analyze_thread(self, thread_id, operations):\n",
    "        for op in operations:\n",
    "            var_name, access_type = op\n",
    "            if var_name not in self.variable_accesses:\n",
    "                self.variable_accesses[var_name] = VariableAccess()\n",
    "            self.variable_accesses[var_name].add_access(thread_id, access_type)\n",
    "\n",
    "    def detect_races(self):\n",
    "        races = []\n",
    "        for var_name, access in self.variable_accesses.items():\n",
    "            if access.has_race_condition():\n",
    "                races.append(var_name)\n",
    "        return races\n",
    "\n",
    "# Definisanje paralelnih operacija\n",
    "thread1_operations = [(\"x\", AccessType.WRITE), (\"y\", AccessType.WRITE)]\n",
    "thread2_operations = [(\"x\", AccessType.WRITE), (\"y\", AccessType.WRITE)]\n",
    "\n",
    "analyzer = ParallelProgramAnalyzer()\n",
    "analyzer.analyze_thread(\"thread1\", thread1_operations)\n",
    "analyzer.analyze_thread(\"thread2\", thread2_operations)\n",
    "\n",
    "races = analyzer.detect_races()\n",
    "if races:\n",
    "    print(f\"Detektovane trke podataka na promenljivim: {', '.join(races)}\")\n",
    "else:\n",
    "    print(\"Nema detektovanih trka podataka.\")\n",
    "\n",
    "# Paralelni program\n",
    "x = 0\n",
    "y = 0\n",
    "\n",
    "def thread1():\n",
    "    global x, y\n",
    "    x += 1\n",
    "    print(f\"Thread 1: x = {x}\")\n",
    "    y += 1\n",
    "    print(f\"Thread 1: y = {y}\")\n",
    "\n",
    "def thread2():\n",
    "    global x, y\n",
    "    x += 2\n",
    "    print(f\"Thread 2: x = {x}\")\n",
    "    y += 2\n",
    "    print(f\"Thread 2: y = {y}\")\n",
    "\n",
    "t1 = threading.Thread(target=thread1)\n",
    "t2 = threading.Thread(target=thread2)\n",
    "\n",
    "t1.start()\n",
    "t2.start()\n",
    "\n",
    "t1.join()\n",
    "t2.join()\n"
   ]
  },
  {
   "cell_type": "markdown",
   "id": "2566b815-fdee-404e-97cb-fd983b63cf05",
   "metadata": {},
   "source": [
    "НАПОМЕНА - биће додати кодови за апстрактне домене "
   ]
  }
 ],
 "metadata": {
  "kernelspec": {
   "display_name": "Python 3 (ipykernel)",
   "language": "python",
   "name": "python3"
  },
  "language_info": {
   "codemirror_mode": {
    "name": "ipython",
    "version": 3
   },
   "file_extension": ".py",
   "mimetype": "text/x-python",
   "name": "python",
   "nbconvert_exporter": "python",
   "pygments_lexer": "ipython3",
   "version": "3.12.2"
  }
 },
 "nbformat": 4,
 "nbformat_minor": 5
}
